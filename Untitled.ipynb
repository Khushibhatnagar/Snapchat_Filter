{
 "cells": [
  {
   "cell_type": "code",
   "execution_count": 6,
   "id": "b863918b",
   "metadata": {},
   "outputs": [
    {
     "name": "stdout",
     "output_type": "stream",
     "text": [
      "Requirement already satisfied: opencv-python in c:\\users\\khush\\.conda\\envs\\tensorflow\\lib\\site-packages (4.6.0.66)\n",
      "Requirement already satisfied: numpy>=1.19.3 in c:\\users\\khush\\appdata\\roaming\\python\\python39\\site-packages (from opencv-python) (1.23.2)\n"
     ]
    },
    {
     "ename": "ValueError",
     "evalue": "could not broadcast input array from shape (322,322,3) into shape (0,322,3)",
     "output_type": "error",
     "traceback": [
      "\u001b[1;31m---------------------------------------------------------------------------\u001b[0m",
      "\u001b[1;31mValueError\u001b[0m                                Traceback (most recent call last)",
      "Input \u001b[1;32mIn [6]\u001b[0m, in \u001b[0;36m<cell line: 9>\u001b[1;34m()\u001b[0m\n\u001b[0;32m     12\u001b[0m \u001b[38;5;28;01mfor\u001b[39;00m (x, y, w, h) \u001b[38;5;129;01min\u001b[39;00m faces:\n\u001b[0;32m     13\u001b[0m     \u001b[38;5;66;03m# cv2.rectangle(frame,(x, y), (x+w, y+h), (0, 255, 0), 2)\u001b[39;00m\n\u001b[0;32m     14\u001b[0m     overlay_resize \u001b[38;5;241m=\u001b[39m cv2\u001b[38;5;241m.\u001b[39mresize(overlay, (\u001b[38;5;28mint\u001b[39m(w\u001b[38;5;241m*\u001b[39m\u001b[38;5;241m1.5\u001b[39m), \u001b[38;5;28mint\u001b[39m(h\u001b[38;5;241m*\u001b[39m\u001b[38;5;241m1.5\u001b[39m)))\n\u001b[1;32m---> 15\u001b[0m     frame \u001b[38;5;241m=\u001b[39m \u001b[43mcvzone\u001b[49m\u001b[38;5;241;43m.\u001b[39;49m\u001b[43moverlayPNG\u001b[49m\u001b[43m(\u001b[49m\u001b[43mframe\u001b[49m\u001b[43m,\u001b[49m\u001b[43m \u001b[49m\u001b[43moverlay_resize\u001b[49m\u001b[43m,\u001b[49m\u001b[43m \u001b[49m\u001b[43m[\u001b[49m\u001b[43mx\u001b[49m\u001b[38;5;241;43m-\u001b[39;49m\u001b[38;5;241;43m45\u001b[39;49m\u001b[43m,\u001b[49m\u001b[43m \u001b[49m\u001b[43my\u001b[49m\u001b[38;5;241;43m-\u001b[39;49m\u001b[38;5;241;43m75\u001b[39;49m\u001b[43m]\u001b[49m\u001b[43m)\u001b[49m\n\u001b[0;32m     16\u001b[0m cv2\u001b[38;5;241m.\u001b[39mimshow(\u001b[38;5;124m'\u001b[39m\u001b[38;5;124mSnap Dude\u001b[39m\u001b[38;5;124m'\u001b[39m, frame)\n\u001b[0;32m     17\u001b[0m \u001b[38;5;28;01mif\u001b[39;00m cv2\u001b[38;5;241m.\u001b[39mwaitKey(\u001b[38;5;241m10\u001b[39m) \u001b[38;5;241m==\u001b[39m \u001b[38;5;28mord\u001b[39m(\u001b[38;5;124m'\u001b[39m\u001b[38;5;124mq\u001b[39m\u001b[38;5;124m'\u001b[39m):\n",
      "File \u001b[1;32m~\\.conda\\envs\\tensorflow\\lib\\site-packages\\cvzone\\Utils.py:126\u001b[0m, in \u001b[0;36moverlayPNG\u001b[1;34m(imgBack, imgFront, pos)\u001b[0m\n\u001b[0;32m    123\u001b[0m imgRGB \u001b[38;5;241m=\u001b[39m cv2\u001b[38;5;241m.\u001b[39mcvtColor(imgRGBA, cv2\u001b[38;5;241m.\u001b[39mCOLOR_BGRA2BGR)\n\u001b[0;32m    125\u001b[0m imgMaskFull \u001b[38;5;241m=\u001b[39m np\u001b[38;5;241m.\u001b[39mzeros((hb, wb, cb), np\u001b[38;5;241m.\u001b[39muint8)\n\u001b[1;32m--> 126\u001b[0m \u001b[43mimgMaskFull\u001b[49m\u001b[43m[\u001b[49m\u001b[43mpos\u001b[49m\u001b[43m[\u001b[49m\u001b[38;5;241;43m1\u001b[39;49m\u001b[43m]\u001b[49m\u001b[43m:\u001b[49m\u001b[43mhf\u001b[49m\u001b[43m \u001b[49m\u001b[38;5;241;43m+\u001b[39;49m\u001b[43m \u001b[49m\u001b[43mpos\u001b[49m\u001b[43m[\u001b[49m\u001b[38;5;241;43m1\u001b[39;49m\u001b[43m]\u001b[49m\u001b[43m,\u001b[49m\u001b[43m \u001b[49m\u001b[43mpos\u001b[49m\u001b[43m[\u001b[49m\u001b[38;5;241;43m0\u001b[39;49m\u001b[43m]\u001b[49m\u001b[43m:\u001b[49m\u001b[43mwf\u001b[49m\u001b[43m \u001b[49m\u001b[38;5;241;43m+\u001b[39;49m\u001b[43m \u001b[49m\u001b[43mpos\u001b[49m\u001b[43m[\u001b[49m\u001b[38;5;241;43m0\u001b[39;49m\u001b[43m]\u001b[49m\u001b[43m,\u001b[49m\u001b[43m \u001b[49m\u001b[43m:\u001b[49m\u001b[43m]\u001b[49m \u001b[38;5;241m=\u001b[39m imgRGB\n\u001b[0;32m    127\u001b[0m imgMaskFull2 \u001b[38;5;241m=\u001b[39m np\u001b[38;5;241m.\u001b[39mones((hb, wb, cb), np\u001b[38;5;241m.\u001b[39muint8) \u001b[38;5;241m*\u001b[39m \u001b[38;5;241m255\u001b[39m\n\u001b[0;32m    128\u001b[0m maskBGRInv \u001b[38;5;241m=\u001b[39m cv2\u001b[38;5;241m.\u001b[39mbitwise_not(maskBGR)\n",
      "\u001b[1;31mValueError\u001b[0m: could not broadcast input array from shape (322,322,3) into shape (0,322,3)"
     ]
    }
   ],
   "source": [
    "!pip install opencv-python\n",
    "#from cv2 import cv2\n",
    "import cv2\n",
    "import  cvzone\n",
    "cap = cv2.VideoCapture(0)\n",
    "cascade = cv2.CascadeClassifier('haarcascade_frontalface_default.xml')\n",
    "overlay = cv2.imread('cool.png', cv2.IMREAD_UNCHANGED)\n",
    "while True:\n",
    "    _, frame = cap.read()\n",
    "    gray_scale = cv2.cvtColor(frame, cv2.COLOR_BGR2GRAY)\n",
    "    faces = cascade.detectMultiScale(gray_scale)\n",
    "    for (x, y, w, h) in faces:\n",
    "        # cv2.rectangle(frame,(x, y), (x+w, y+h), (0, 255, 0), 2)\n",
    "        overlay_resize = cv2.resize(overlay, (int(w*1.5), int(h*1.5)))\n",
    "        frame = cvzone.overlayPNG(frame, overlay_resize, [x-45, y-75])\n",
    "    cv2.imshow('Snap Dude', frame)\n",
    "    if cv2.waitKey(10) == ord('q'):\n",
    "        break\n"
   ]
  }
 ],
 "metadata": {
  "kernelspec": {
   "display_name": "Python 3 (ipykernel)",
   "language": "python",
   "name": "python3"
  },
  "language_info": {
   "codemirror_mode": {
    "name": "ipython",
    "version": 3
   },
   "file_extension": ".py",
   "mimetype": "text/x-python",
   "name": "python",
   "nbconvert_exporter": "python",
   "pygments_lexer": "ipython3",
   "version": "3.9.12"
  }
 },
 "nbformat": 4,
 "nbformat_minor": 5
}
